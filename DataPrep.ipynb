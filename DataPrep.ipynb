{
 "metadata": {
  "language_info": {
   "codemirror_mode": {
    "name": "ipython",
    "version": 3
   },
   "file_extension": ".py",
   "mimetype": "text/x-python",
   "name": "python",
   "nbconvert_exporter": "python",
   "pygments_lexer": "ipython3",
   "version": "3.9.5"
  },
  "orig_nbformat": 2,
  "kernelspec": {
   "name": "python3",
   "display_name": "Python 3.9.5 64-bit",
   "metadata": {
    "interpreter": {
     "hash": "7812ea015bdcee6f23a998adcdd2ef97c151c0c241b7b7070987d9313e41299d"
    }
   }
  }
 },
 "nbformat": 4,
 "nbformat_minor": 2,
 "cells": [
  {
   "source": [
    "# import pandas module\n",
    "import pandas as pd\n",
    "import numpy as np\n",
    "from pandas.core.accessor import CachedAccessor"
   ],
   "cell_type": "code",
   "metadata": {},
   "execution_count": 13,
   "outputs": []
  },
  {
   "source": [
    "# create pandas dataframe\n",
    "CCData = pd.read_csv('application_data.csv')"
   ],
   "cell_type": "code",
   "metadata": {},
   "execution_count": 14,
   "outputs": []
  },
  {
   "source": [
    "# view CCData dataframe info\n",
    "print(CCData.info(verbose=True, show_counts=True))\n",
    "# create clean Data Frame (drop rows with null values)\n",
    "CCData_clean = CCData.dropna(axis='rows')\n"
   ],
   "cell_type": "code",
   "metadata": {},
   "execution_count": 6,
   "outputs": [
    {
     "output_type": "stream",
     "name": "stdout",
     "text": [
      "<class 'pandas.core.frame.DataFrame'>\nRangeIndex: 307511 entries, 0 to 307510\nData columns (total 122 columns):\n #    Column                        Non-Null Count   Dtype  \n---   ------                        --------------   -----  \n 0    SK_ID_CURR                    307511 non-null  int64  \n 1    TARGET                        307511 non-null  int64  \n 2    NAME_CONTRACT_TYPE            307511 non-null  object \n 3    CODE_GENDER                   307511 non-null  object \n 4    FLAG_OWN_CAR                  307511 non-null  object \n 5    FLAG_OWN_REALTY               307511 non-null  object \n 6    CNT_CHILDREN                  307511 non-null  int64  \n 7    AMT_INCOME_TOTAL              307511 non-null  float64\n 8    AMT_CREDIT                    307511 non-null  float64\n 9    AMT_ANNUITY                   307499 non-null  float64\n 10   AMT_GOODS_PRICE               307233 non-null  float64\n 11   NAME_TYPE_SUITE               306219 non-null  object \n 12   NAME_INCOME_TYPE              307511 non-null  object \n 13   NAME_EDUCATION_TYPE           307511 non-null  object \n 14   NAME_FAMILY_STATUS            307511 non-null  object \n 15   NAME_HOUSING_TYPE             307511 non-null  object \n 16   REGION_POPULATION_RELATIVE    307511 non-null  float64\n 17   DAYS_BIRTH                    307511 non-null  int64  \n 18   DAYS_EMPLOYED                 307511 non-null  int64  \n 19   DAYS_REGISTRATION             307511 non-null  float64\n 20   DAYS_ID_PUBLISH               307511 non-null  int64  \n 21   OWN_CAR_AGE                   104582 non-null  float64\n 22   FLAG_MOBIL                    307511 non-null  int64  \n 23   FLAG_EMP_PHONE                307511 non-null  int64  \n 24   FLAG_WORK_PHONE               307511 non-null  int64  \n 25   FLAG_CONT_MOBILE              307511 non-null  int64  \n 26   FLAG_PHONE                    307511 non-null  int64  \n 27   FLAG_EMAIL                    307511 non-null  int64  \n 28   OCCUPATION_TYPE               211120 non-null  object \n 29   CNT_FAM_MEMBERS               307509 non-null  float64\n 30   REGION_RATING_CLIENT          307511 non-null  int64  \n 31   REGION_RATING_CLIENT_W_CITY   307511 non-null  int64  \n 32   WEEKDAY_APPR_PROCESS_START    307511 non-null  object \n 33   HOUR_APPR_PROCESS_START       307511 non-null  int64  \n 34   REG_REGION_NOT_LIVE_REGION    307511 non-null  int64  \n 35   REG_REGION_NOT_WORK_REGION    307511 non-null  int64  \n 36   LIVE_REGION_NOT_WORK_REGION   307511 non-null  int64  \n 37   REG_CITY_NOT_LIVE_CITY        307511 non-null  int64  \n 38   REG_CITY_NOT_WORK_CITY        307511 non-null  int64  \n 39   LIVE_CITY_NOT_WORK_CITY       307511 non-null  int64  \n 40   ORGANIZATION_TYPE             307511 non-null  object \n 41   EXT_SOURCE_1                  134133 non-null  float64\n 42   EXT_SOURCE_2                  306851 non-null  float64\n 43   EXT_SOURCE_3                  246546 non-null  float64\n 44   APARTMENTS_AVG                151450 non-null  float64\n 45   BASEMENTAREA_AVG              127568 non-null  float64\n 46   YEARS_BEGINEXPLUATATION_AVG   157504 non-null  float64\n 47   YEARS_BUILD_AVG               103023 non-null  float64\n 48   COMMONAREA_AVG                92646 non-null   float64\n 49   ELEVATORS_AVG                 143620 non-null  float64\n 50   ENTRANCES_AVG                 152683 non-null  float64\n 51   FLOORSMAX_AVG                 154491 non-null  float64\n 52   FLOORSMIN_AVG                 98869 non-null   float64\n 53   LANDAREA_AVG                  124921 non-null  float64\n 54   LIVINGAPARTMENTS_AVG          97312 non-null   float64\n 55   LIVINGAREA_AVG                153161 non-null  float64\n 56   NONLIVINGAPARTMENTS_AVG       93997 non-null   float64\n 57   NONLIVINGAREA_AVG             137829 non-null  float64\n 58   APARTMENTS_MODE               151450 non-null  float64\n 59   BASEMENTAREA_MODE             127568 non-null  float64\n 60   YEARS_BEGINEXPLUATATION_MODE  157504 non-null  float64\n 61   YEARS_BUILD_MODE              103023 non-null  float64\n 62   COMMONAREA_MODE               92646 non-null   float64\n 63   ELEVATORS_MODE                143620 non-null  float64\n 64   ENTRANCES_MODE                152683 non-null  float64\n 65   FLOORSMAX_MODE                154491 non-null  float64\n 66   FLOORSMIN_MODE                98869 non-null   float64\n 67   LANDAREA_MODE                 124921 non-null  float64\n 68   LIVINGAPARTMENTS_MODE         97312 non-null   float64\n 69   LIVINGAREA_MODE               153161 non-null  float64\n 70   NONLIVINGAPARTMENTS_MODE      93997 non-null   float64\n 71   NONLIVINGAREA_MODE            137829 non-null  float64\n 72   APARTMENTS_MEDI               151450 non-null  float64\n 73   BASEMENTAREA_MEDI             127568 non-null  float64\n 74   YEARS_BEGINEXPLUATATION_MEDI  157504 non-null  float64\n 75   YEARS_BUILD_MEDI              103023 non-null  float64\n 76   COMMONAREA_MEDI               92646 non-null   float64\n 77   ELEVATORS_MEDI                143620 non-null  float64\n 78   ENTRANCES_MEDI                152683 non-null  float64\n 79   FLOORSMAX_MEDI                154491 non-null  float64\n 80   FLOORSMIN_MEDI                98869 non-null   float64\n 81   LANDAREA_MEDI                 124921 non-null  float64\n 82   LIVINGAPARTMENTS_MEDI         97312 non-null   float64\n 83   LIVINGAREA_MEDI               153161 non-null  float64\n 84   NONLIVINGAPARTMENTS_MEDI      93997 non-null   float64\n 85   NONLIVINGAREA_MEDI            137829 non-null  float64\n 86   FONDKAPREMONT_MODE            97216 non-null   object \n 87   HOUSETYPE_MODE                153214 non-null  object \n 88   TOTALAREA_MODE                159080 non-null  float64\n 89   WALLSMATERIAL_MODE            151170 non-null  object \n 90   EMERGENCYSTATE_MODE           161756 non-null  object \n 91   OBS_30_CNT_SOCIAL_CIRCLE      306490 non-null  float64\n 92   DEF_30_CNT_SOCIAL_CIRCLE      306490 non-null  float64\n 93   OBS_60_CNT_SOCIAL_CIRCLE      306490 non-null  float64\n 94   DEF_60_CNT_SOCIAL_CIRCLE      306490 non-null  float64\n 95   DAYS_LAST_PHONE_CHANGE        307510 non-null  float64\n 96   FLAG_DOCUMENT_2               307511 non-null  int64  \n 97   FLAG_DOCUMENT_3               307511 non-null  int64  \n 98   FLAG_DOCUMENT_4               307511 non-null  int64  \n 99   FLAG_DOCUMENT_5               307511 non-null  int64  \n 100  FLAG_DOCUMENT_6               307511 non-null  int64  \n 101  FLAG_DOCUMENT_7               307511 non-null  int64  \n 102  FLAG_DOCUMENT_8               307511 non-null  int64  \n 103  FLAG_DOCUMENT_9               307511 non-null  int64  \n 104  FLAG_DOCUMENT_10              307511 non-null  int64  \n 105  FLAG_DOCUMENT_11              307511 non-null  int64  \n 106  FLAG_DOCUMENT_12              307511 non-null  int64  \n 107  FLAG_DOCUMENT_13              307511 non-null  int64  \n 108  FLAG_DOCUMENT_14              307511 non-null  int64  \n 109  FLAG_DOCUMENT_15              307511 non-null  int64  \n 110  FLAG_DOCUMENT_16              307511 non-null  int64  \n 111  FLAG_DOCUMENT_17              307511 non-null  int64  \n 112  FLAG_DOCUMENT_18              307511 non-null  int64  \n 113  FLAG_DOCUMENT_19              307511 non-null  int64  \n 114  FLAG_DOCUMENT_20              307511 non-null  int64  \n 115  FLAG_DOCUMENT_21              307511 non-null  int64  \n 116  AMT_REQ_CREDIT_BUREAU_HOUR    265992 non-null  float64\n 117  AMT_REQ_CREDIT_BUREAU_DAY     265992 non-null  float64\n 118  AMT_REQ_CREDIT_BUREAU_WEEK    265992 non-null  float64\n 119  AMT_REQ_CREDIT_BUREAU_MON     265992 non-null  float64\n 120  AMT_REQ_CREDIT_BUREAU_QRT     265992 non-null  float64\n 121  AMT_REQ_CREDIT_BUREAU_YEAR    265992 non-null  float64\ndtypes: float64(65), int64(41), object(16)\nmemory usage: 286.2+ MB\nNone\n"
     ]
    }
   ]
  },
  {
   "source": [
    "# create dummy variablies form CCData_clean\n",
    "dummy = pd.get_dummies(CCData_clean.select_dtypes('object'))\n",
    "# combine the dummy variables with CCData_clean\n",
    "CCData_concat = pd.concat([CCData_clean, dummy], axis=1)\n",
    "# drop object datatypes for numerical Data Frame\n",
    "CCData_numerical = CCData_concat.select_dtypes(exclude='object')\n",
    "print(CCData_numerical)\n"
   ],
   "cell_type": "code",
   "metadata": {
    "tags": []
   },
   "execution_count": 16,
   "outputs": [
    {
     "output_type": "stream",
     "name": "stdout",
     "text": [
      "        SK_ID_CURR  TARGET  CNT_CHILDREN  AMT_INCOME_TOTAL  AMT_CREDIT  \\\n71          100083       0             0          103500.0    573628.5   \n124         100145       0             1          202500.0    260725.5   \n152         100179       0             0          202500.0    675000.0   \n161         100190       0             0          162000.0    263686.5   \n255         100295       1             1          225000.0   1019205.0   \n...            ...     ...           ...               ...         ...   \n307358      456083       0             2          112500.0    361462.5   \n307359      456084       0             1           99000.0    675000.0   \n307407      456140       1             1          261000.0    711454.5   \n307456      456195       0             0           94500.0    270000.0   \n307482      456226       0             0          225000.0    500566.5   \n\n        AMT_ANNUITY  AMT_GOODS_PRICE  REGION_POPULATION_RELATIVE  DAYS_BIRTH  \\\n71          24435.0         463500.0                    0.009657      -15406   \n124         16789.5         198000.0                    0.018850      -16282   \n152         53329.5         675000.0                    0.031329      -11375   \n161         24781.5         238500.0                    0.022625      -13972   \n255         31032.0         774000.0                    0.072508      -11356   \n...             ...              ...                         ...         ...   \n307358      16051.5         274500.0                    0.025164      -15006   \n307359      21906.0         675000.0                    0.020246      -14007   \n307407      47673.0         643500.0                    0.018850      -11407   \n307456      15075.0         270000.0                    0.028663      -20246   \n307482      34969.5         472500.0                    0.031329      -14106   \n\n        DAYS_EMPLOYED  ...  HOUSETYPE_MODE_terraced house  \\\n71               -892  ...                              0   \n124             -4375  ...                              0   \n152             -2311  ...                              0   \n161             -4472  ...                              0   \n255              -602  ...                              0   \n...               ...  ...                            ...   \n307358          -1105  ...                              0   \n307359          -2021  ...                              0   \n307407          -1641  ...                              0   \n307456          -5452  ...                              0   \n307482           -226  ...                              0   \n\n        WALLSMATERIAL_MODE_Block  WALLSMATERIAL_MODE_Mixed  \\\n71                             0                         0   \n124                            0                         0   \n152                            0                         0   \n161                            0                         0   \n255                            0                         0   \n...                          ...                       ...   \n307358                         0                         0   \n307359                         0                         0   \n307407                         0                         0   \n307456                         0                         0   \n307482                         1                         0   \n\n        WALLSMATERIAL_MODE_Monolithic  WALLSMATERIAL_MODE_Others  \\\n71                                  0                          0   \n124                                 0                          0   \n152                                 1                          0   \n161                                 0                          0   \n255                                 0                          0   \n...                               ...                        ...   \n307358                              0                          0   \n307359                              0                          0   \n307407                              0                          0   \n307456                              0                          0   \n307482                              0                          0   \n\n        WALLSMATERIAL_MODE_Panel  WALLSMATERIAL_MODE_Stone, brick  \\\n71                             0                                1   \n124                            1                                0   \n152                            0                                0   \n161                            1                                0   \n255                            1                                0   \n...                          ...                              ...   \n307358                         0                                1   \n307359                         1                                0   \n307407                         1                                0   \n307456                         0                                1   \n307482                         0                                0   \n\n        WALLSMATERIAL_MODE_Wooden  EMERGENCYSTATE_MODE_No  \\\n71                              0                       1   \n124                             0                       1   \n152                             0                       1   \n161                             0                       1   \n255                             0                       1   \n...                           ...                     ...   \n307358                          0                       1   \n307359                          0                       1   \n307407                          0                       1   \n307456                          0                       1   \n307482                          0                       1   \n\n        EMERGENCYSTATE_MODE_Yes  \n71                            0  \n124                           0  \n152                           0  \n161                           0  \n255                           0  \n...                         ...  \n307358                        0  \n307359                        0  \n307407                        0  \n307456                        0  \n307482                        0  \n\n[8602 rows x 235 columns]\n"
     ]
    }
   ]
  },
  {
   "source": [
    "# import seaborn and matplotlib\n",
    "import seaborn as sn\n",
    "import matplotlib.pyplot as plt \n",
    "\n",
    "\n",
    "# Create a correlation matrix to detect highly correlelated predictor variables\n",
    "corrMatrix= CCData_numerical.corr().abs()\n",
    "\n",
    "# select upper traingle of correlation matrix\n",
    "\n",
    "upper = corrMatrix.where(np.triu(np.ones(corrMatrix.shape), k=1).astype(np.bool))\n",
    "\n",
    "# identify correlatons greater than abs(.8)\n",
    "\n",
    "to_drop = [column for column in upper.columns if any(upper[column] > 0.80)]\n",
    "\n",
    "CCData_final = CCData_numerical.drop(CCData_numerical[to_drop], axis=1)\n",
    "print(CCData_final)\n",
    "# see final percentage of target variable before SMOTE = .061149 or 6.1149% (lower % than original data)\n",
    "print(CCData_final.TARGET.value_counts()/8602)\n",
    "\n",
    "# save CCData_file as a excel file\n",
    "CCData_final.to_excel('out.xlsx', sheet_name='CCData_final')\n",
    "\n",
    "\n",
    "# create a heatmap of the correlation matrix\n",
    "#sn.heatmap(corrMatrix, annot=True)\n",
    "#plt.show()"
   ],
   "cell_type": "code",
   "metadata": {},
   "execution_count": 17,
   "outputs": [
    {
     "output_type": "stream",
     "name": "stdout",
     "text": [
      "        SK_ID_CURR  TARGET  CNT_CHILDREN  AMT_INCOME_TOTAL  AMT_CREDIT  \\\n71          100083       0             0          103500.0    573628.5   \n124         100145       0             1          202500.0    260725.5   \n152         100179       0             0          202500.0    675000.0   \n161         100190       0             0          162000.0    263686.5   \n255         100295       1             1          225000.0   1019205.0   \n...            ...     ...           ...               ...         ...   \n307358      456083       0             2          112500.0    361462.5   \n307359      456084       0             1           99000.0    675000.0   \n307407      456140       1             1          261000.0    711454.5   \n307456      456195       0             0           94500.0    270000.0   \n307482      456226       0             0          225000.0    500566.5   \n\n        AMT_ANNUITY  REGION_POPULATION_RELATIVE  DAYS_BIRTH  DAYS_EMPLOYED  \\\n71          24435.0                    0.009657      -15406           -892   \n124         16789.5                    0.018850      -16282          -4375   \n152         53329.5                    0.031329      -11375          -2311   \n161         24781.5                    0.022625      -13972          -4472   \n255         31032.0                    0.072508      -11356           -602   \n...             ...                         ...         ...            ...   \n307358      16051.5                    0.025164      -15006          -1105   \n307359      21906.0                    0.020246      -14007          -2021   \n307407      47673.0                    0.018850      -11407          -1641   \n307456      15075.0                    0.028663      -20246          -5452   \n307482      34969.5                    0.031329      -14106           -226   \n\n        DAYS_REGISTRATION  ...  HOUSETYPE_MODE_specific housing  \\\n71                 -341.0  ...                                0   \n124                -762.0  ...                                0   \n152                -180.0  ...                                0   \n161                -464.0  ...                                0   \n255                -335.0  ...                                0   \n...                   ...  ...                              ...   \n307358            -1806.0  ...                                0   \n307359            -2395.0  ...                                0   \n307407            -9288.0  ...                                0   \n307456            -5480.0  ...                                0   \n307482            -2463.0  ...                                0   \n\n        HOUSETYPE_MODE_terraced house  WALLSMATERIAL_MODE_Block  \\\n71                                  0                         0   \n124                                 0                         0   \n152                                 0                         0   \n161                                 0                         0   \n255                                 0                         0   \n...                               ...                       ...   \n307358                              0                         0   \n307359                              0                         0   \n307407                              0                         0   \n307456                              0                         0   \n307482                              0                         1   \n\n        WALLSMATERIAL_MODE_Mixed  WALLSMATERIAL_MODE_Monolithic  \\\n71                             0                              0   \n124                            0                              0   \n152                            0                              1   \n161                            0                              0   \n255                            0                              0   \n...                          ...                            ...   \n307358                         0                              0   \n307359                         0                              0   \n307407                         0                              0   \n307456                         0                              0   \n307482                         0                              0   \n\n        WALLSMATERIAL_MODE_Others  WALLSMATERIAL_MODE_Panel  \\\n71                              0                         0   \n124                             0                         1   \n152                             0                         0   \n161                             0                         1   \n255                             0                         1   \n...                           ...                       ...   \n307358                          0                         0   \n307359                          0                         1   \n307407                          0                         1   \n307456                          0                         0   \n307482                          0                         0   \n\n        WALLSMATERIAL_MODE_Stone, brick  WALLSMATERIAL_MODE_Wooden  \\\n71                                    1                          0   \n124                                   0                          0   \n152                                   0                          0   \n161                                   0                          0   \n255                                   0                          0   \n...                                 ...                        ...   \n307358                                1                          0   \n307359                                0                          0   \n307407                                0                          0   \n307456                                1                          0   \n307482                                0                          0   \n\n        EMERGENCYSTATE_MODE_No  \n71                           1  \n124                          1  \n152                          1  \n161                          1  \n255                          1  \n...                        ...  \n307358                       1  \n307359                       1  \n307407                       1  \n307456                       1  \n307482                       1  \n\n[8602 rows x 189 columns]\n0    0.938851\n1    0.061149\nName: TARGET, dtype: float64\n"
     ]
    }
   ]
  },
  {
   "source": [
    "import statsmodels.api as sm\n",
    "\"\"\"\n",
    "\n",
    "x = CCData_final[CCData_final.columns[CCData_final.columns != 'TARGET']]\n",
    "y = CCData_final.TARGET\n",
    " \n",
    "# Statsmodels.OLS requires us to add a constant.\n",
    "x = sm.add_constant(x)\n",
    "model = sm.OLS(y,x)\n",
    "results = model.fit()\n",
    "print(results.summary())\n",
    "\n",
    "\"\"\""
   ],
   "cell_type": "markdown",
   "metadata": {
    "tags": []
   }
  },
  {
   "source": [
    "def prep_data (CCData_final: pd.DataFrame) -> (np.array,np.ndarray):\n",
    "    \"\"\"\n",
    "    convert the DataFrame into two variables\n",
    "    \"\"\"\n",
    "    X = CCData_final.iloc[:, 2:235].values\n",
    "    y = CCData_final.TARGET.values\n",
    "    return X, y \n",
    "\n",
    "\n",
    "import matplotlib.pyplot as plt\n",
    "# Define a function to create a scatter plot of our data and labels\n",
    "def plot_data(X: np.ndarray, y: np.ndarray):\n",
    "\tplt.scatter(X[y == 0, 0], X[y == 0, 1], label=\"TARGET #0\", alpha=0.5, linewidth=0.15)\n",
    "\tplt.scatter(X[y == 1, 0], X[y == 1, 1], label=\"TARGET #1\", alpha=0.5, linewidth=0.15, c='r')\n",
    "\tplt.legend()\n",
    "\treturn plt.show()\n",
    "\n",
    "# Create X and y from the prep_data function \n",
    "X, y = prep_data(CCData_final)\n",
    "\n",
    "# Plot our data by running our plot data function on X and y\n",
    "plot_data(X, y)"
   ],
   "cell_type": "markdown",
   "metadata": {}
  },
  {
   "cell_type": "code",
   "execution_count": null,
   "metadata": {},
   "outputs": [],
   "source": []
  }
 ]
}